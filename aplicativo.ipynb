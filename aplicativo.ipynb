{
 "cells": [
  {
   "cell_type": "markdown",
   "metadata": {},
   "source": [
    "Pratique o cálculo de média, mediana e moda usando Python Dado um conjunto de números, calcule a média aritmética desses números\n",
    "\n",
    "Conjunto: [10, 20, 30, 40, 50]"
   ]
  },
  {
   "cell_type": "code",
   "execution_count": 15,
   "metadata": {},
   "outputs": [
    {
     "name": "stdout",
     "output_type": "stream",
     "text": [
      "A média dos números é:  30.0\n"
     ]
    }
   ],
   "source": [
    "#RESOLUÇÃO NÚMERO 1\n",
    "\n",
    "numeros=[10, 20, 30, 40, 50]\n",
    "media=sum(numeros)/len(numeros)\n",
    "print(\"A média dos números é: \", media)\n",
    "#"
   ]
  },
  {
   "cell_type": "code",
   "execution_count": 1,
   "metadata": {},
   "outputs": [
    {
     "name": "stdout",
     "output_type": "stream",
     "text": [
      "A média dos números é:  30\n"
     ]
    },
    {
     "data": {
      "text/plain": [
       "30"
      ]
     },
     "metadata": {},
     "output_type": "display_data"
    }
   ],
   "source": [
    "#RESOLUÇÃO NUMERO 2\n",
    "\n",
    "import statistics  #importando modulo statistics para calculos\n",
    "\n",
    "numeros=[10, 20, 30, 40, 50] \n",
    "media=statistics.mean(numeros) # Calcula a média dos números na lista 'numeros' usando a função mean do módulo statistics\n",
    "print(\"A média dos números é: \", media)\n",
    "\n"
   ]
  },
  {
   "cell_type": "code",
   "execution_count": 2,
   "metadata": {},
   "outputs": [
    {
     "name": "stdout",
     "output_type": "stream",
     "text": [
      "A média dos números é:  30.0\n"
     ]
    }
   ],
   "source": [
    "#RESOLUÇÃO NÚMERO 3\n",
    "\n",
    "numeros = [10,20,30,40,50]\n",
    "soma = 0\n",
    "for numero in numeros:\n",
    "    soma += numero\n",
    "media = soma / len(numeros)\n",
    "print(\"A média dos números é: \", media)\n"
   ]
  },
  {
   "cell_type": "markdown",
   "metadata": {},
   "source": [
    " Cálculo da Mediana Dado um conjunto de números, calcule a mediana. A mediana é o valor central de um conjunto de números ordenados\n",
    "\n",
    "Conjunto: [1, 3, 4, 2, 5]"
   ]
  },
  {
   "cell_type": "code",
   "execution_count": 4,
   "metadata": {},
   "outputs": [
    {
     "name": "stdout",
     "output_type": "stream",
     "text": [
      "[1, 2, 3, 4, 5]\n",
      "5\n",
      "A mediana é:  3\n"
     ]
    },
    {
     "data": {
      "text/plain": [
       "3"
      ]
     },
     "metadata": {},
     "output_type": "display_data"
    }
   ],
   "source": [
    "#RESOLUÇÃO NÚMERO 1(SEQUENCIA DE UMA LISTA IMPAR)\n",
    "\n",
    "numero=[1, 3, 4, 2, 5]\n",
    "numero.sort()\n",
    "print(numero)\n",
    "tamanho=len(numero)\n",
    "print(tamanho)\n",
    "mediana=numero[tamanho//2]\n",
    "print(\"A mediana é: \",mediana)\n"
   ]
  },
  {
   "cell_type": "code",
   "execution_count": 5,
   "metadata": {},
   "outputs": [
    {
     "name": "stdout",
     "output_type": "stream",
     "text": [
      "[1, 2, 3, 4, 5, 8]\n",
      "5\n",
      " A Mediana é : 25.0\n"
     ]
    }
   ],
   "source": [
    "# RESOLUÇÃO NÚMERO 2 (SEQUENCIA DE NÚMEROS PARES)\n",
    "\n",
    "numero=[1, 3, 4, 2, 5,8]\n",
    "numero.sort()\n",
    "print(numero)\n",
    "tamanho = len(numeros)\n",
    "print(tamanho)\n",
    "mediana = (numeros[tamanho // 2 - 1] + numeros[tamanho // 2]) / 2\n",
    "#Exibe a mediana calculada\n",
    "print(\" A Mediana é :\", mediana)\n"
   ]
  },
  {
   "cell_type": "code",
   "execution_count": 6,
   "metadata": {},
   "outputs": [
    {
     "name": "stdout",
     "output_type": "stream",
     "text": [
      "5\n",
      "A mediana é:  3\n"
     ]
    }
   ],
   "source": [
    "#MEDIANA DA LISTA JA ORDENADA (impar)\n",
    "\n",
    "numero=[1,2,3,4,5]\n",
    "tamanho=len(numero)\n",
    "print(tamanho)\n",
    "mediana=numero[tamanho//2]\n",
    "print(\"A mediana é: \",mediana)\n"
   ]
  },
  {
   "cell_type": "markdown",
   "metadata": {},
   "source": [
    " Cálculo da Moda Dado um conjunto de números, encontre a moda. A moda é o número que aparece com maior frequência no conjunto.\n",
    "\n",
    "Conjunto: [1, 2, 2, 3, 4, 4, 4, 5, 5]"
   ]
  },
  {
   "cell_type": "code",
   "execution_count": 7,
   "metadata": {},
   "outputs": [
    {
     "name": "stdout",
     "output_type": "stream",
     "text": [
      "A moda é:  4\n"
     ]
    }
   ],
   "source": [
    "# CALCULANDO MODA\n",
    "\n",
    "numeros=[1,2,2,3,4,4,4,5,5]\n",
    "frequencia={}\n",
    "for numero in numeros:\n",
    "    if numero in frequencia:\n",
    "        frequencia[numero]+=1\n",
    "    else:\n",
    "        frequencia[numero]=1\n",
    "moda=max(frequencia,key=frequencia.get)\n",
    "print(\"A moda é: \",moda)"
   ]
  },
  {
   "cell_type": "markdown",
   "metadata": {},
   "source": [
    " Análise de Notas de Alunos Uma escola precisa analisar o desempenho dos alunos em uma prova. As notas dos alunos são armazenadas em uma lista. Escreva um programa em Python que:\n",
    "\n",
    "Calcule a média aritmética das notas.\n",
    "Encontre a mediana das notas.\n",
    "Determine a moda das notas (a nota que aparece com maior frequência)."
   ]
  },
  {
   "cell_type": "code",
   "execution_count": 7,
   "metadata": {},
   "outputs": [
    {
     "name": "stdout",
     "output_type": "stream",
     "text": [
      "\n",
      "Olá, !  Digite suas 8 notas e Vamos começar a análise das notas. Boa Sorte!!\n",
      "Entrada inválida. Por favor, insira um número válido.\n",
      "Entrada inválida. Por favor, insira um número válido.\n",
      "Entrada inválida. Por favor, insira um número válido.\n",
      "Entrada inválida. Por favor, insira um número válido.\n",
      "Entrada inválida. Por favor, insira um número válido.\n",
      "Entrada inválida. Por favor, insira um número válido.\n",
      "Entrada inválida. Por favor, insira um número válido.\n",
      "Entrada inválida. Por favor, insira um número válido.\n",
      "Nenhuma nota foi inserida.\n",
      "\n",
      "Olá, ! Vamos começar a análise das notas. Boa Sorte!!\n",
      "A Média é : 83.20\n",
      "A Mediana é: 84.5\n",
      "A Moda é: 70\n"
     ]
    },
    {
     "data": {
      "image/png": "[encoded data removed]",
      "text/plain": [
       "<Figure size 1000x600 with 1 Axes>"
      ]
     },
     "metadata": {},
     "output_type": "display_data"
    }
   ],
   "source": [
    "import matplotlib.pyplot as plt\n",
    "from statistics import mean, median\n",
    "from collections import Counter\n",
    "\n",
    "# Coletando informações do usuário\n",
    "nome = input(\"Digite seu nome: \")  # Pede ao usuário para digitar seu nome\n",
    "idade = input(\"Digite sua idade: \")  # Pede ao usuário para digitar sua idade\n",
    "cidade = input(\"Digite a cidade onde você mora: \")  # Pede ao usuário para digitar a cidade onde mora\n",
    "\n",
    "# Exibe uma mensagem de saudação ao usuário\n",
    "print(f\"\\nOlá, {nome}!  Digite suas 8 notas e Vamos começar a análise das notas. Boa Sorte!!\")\n",
    "\n",
    "# Coletando notas do usuário\n",
    "notas = []\n",
    "for i in range(8):\n",
    "    try:\n",
    "        nota = float(input(f\"Digite a nota {i+1} (ou digite 'fim' para terminar): \"))\n",
    "        notas.append(nota)\n",
    "    except ValueError:\n",
    "        print(\"Entrada inválida. Por favor, insira um número válido.\")\n",
    "    if len(notas) >= 8:\n",
    "        break\n",
    "\n",
    "# Verificando se a lista de notas está vazia\n",
    "if not notas:\n",
    "    print(\"Nenhuma nota foi inserida.\")\n",
    "else:\n",
    "    # Calculando a média aritmética das notas\n",
    "    media = mean(notas)\n",
    "    print(f\"A Média é : {media:.2f}\")  # Exibindo a média\n",
    "\n",
    "    # Calculando a mediana das notas\n",
    "    mediana = median(notas)\n",
    "    print(f\"A Mediana é: {mediana}\")  # Exibindo a mediana\n",
    "\n",
    "    # Calculando a moda das notas usando Counter\n",
    "    contagem = Counter(notas)  # Contando a frequência de cada nota\n",
    "    moda = contagem.most_common(1)[0][0]  # Obtendo a nota mais comum\n",
    "    print(f\"A Moda é: {moda}\")  # Exibindo a moda\n",
    "\n",
    "    # Gerando o gráfico de barras\n",
    "    plt.figure(figsize=(8, 5))  # Ajusta o tamanho da figura para ser um pouco menor\n",
    "    plt.bar(range(len(notas)), notas, color='cyan', alpha=0.7, edgecolor='black')  # Cria um gráfico de barras com as notas em cor ciano\n",
    "    plt.axhline(media, color='magenta', linestyle='dashed', linewidth=1, label=f'Média: {media:.2f}')  # Linha para a média\n",
    "    plt.axhline(mediana, color='orange', linestyle='dashed', linewidth=1, label=f'Mediana: {mediana}')  # Linha para a mediana\n",
    "    plt.axhline(moda, color='purple', linestyle='dashed', linewidth=1, label=f'Moda: {moda}')  # Linha para a moda\n",
    "\n",
    "    plt.title('Distribuição de Notas')  # Define o título do gráfico\n",
    "    plt.xlabel('Índice da Nota')  # Define o rótulo do eixo x\n",
    "    plt.ylabel('Nota')  # Define o rótulo do eixo y\n",
    "    plt.legend()  # Adiciona uma legenda ao gráfico\n",
    "    plt.grid(True)  # Adiciona uma grade ao gráfico\n",
    "    plt.show()  # Exibe o gráfico\n",
    "\n",
    "\n",
    "# Coletando informações do usuário\n",
    "nome = input(\"Digite seu nome: \")  # Pede ao usuário para digitar seu nome\n",
    "idade = input(\"Digite sua idade: \")  # Pede ao usuário para digitar sua idade\n",
    "cidade = input(\"Digite a cidade onde você mora: \")  # Pede ao usuário para digitar a cidade onde mora\n",
    "\n",
    "# Exibe uma mensagem de saudação ao usuário\n",
    "print(f\"\\nOlá, {nome}! Vamos começar a análise das notas. Boa Sorte!!\")\n",
    "\n",
    "# Lista de notas dos alunos (máximo 10 notas)\n",
    "notas = [70, 85, 78, 92, 88, 76, 95, 89, 84, 75]\n",
    "\n",
    "# Verificando se a lista de notas não ultrapassa 10 elementos\n",
    "if len(notas) > 10:\n",
    "    print(\"Erro: A lista de notas não pode conter mais de 10 elementos.\")\n",
    "else:\n",
    "    # Calculando a média aritmética das notas\n",
    "    media = mean(notas)\n",
    "    print(f\"A Média é : {media:.2f}\")  # Exibindo a média\n",
    "\n",
    "    # Calculando a mediana das notas\n",
    "    mediana = median(notas)\n",
    "    print(f\"A Mediana é: {mediana}\")  # Exibindo a mediana\n",
    "\n",
    "    # Calculando a moda das notas usando Counter\n",
    "    contagem = Counter(notas)  # Contando a frequência de cada nota\n",
    "    moda = contagem.most_common(1)[0][0]  # Obtendo a nota mais comum\n",
    "    print(f\"A Moda é: {moda}\")  # Exibindo a moda\n",
    "\n",
    "    # Gerando o gráfico de barras\n",
    "    plt.figure(figsize=(10, 6))\n",
    "    plt.bar(range(len(notas)), notas, color='blue', alpha=0.7, edgecolor='black')\n",
    "    plt.axhline(media, color='red', linestyle='dashed', linewidth=1, label=f'Média: {media:.2f}')\n",
    "    plt.axhline(mediana, color='yellow', linestyle='dashed', linewidth=1, label=f'Mediana: {mediana}')\n",
    "    plt.axhline(moda, color='green', linestyle='dashed', linewidth=1, label=f'Moda: {moda}')\n",
    "\n",
    "    plt.title('Distribuição de Notas')\n",
    "    plt.xlabel('Índice da Nota')\n",
    "    plt.ylabel('Nota')\n",
    "    plt.legend()\n",
    "    plt.grid(True)\n",
    "    plt.show()\n",
    "    \n",
    "\n"
   ]
  },
  {
   "cell_type": "markdown",
   "metadata": {},
   "source": [
    " Análise de Vendas de Produtos\n",
    "\n",
    "Uma loja registrou o número de unidades vendidas de diferentes produtos ao\n",
    "longo de uma semana.\n",
    "Cada produto tem um código único e o número de unidades vendidas é\n",
    "registrado em uma lista. Escreva um programa em Python que:\n",
    "\n",
    "1. Calcule a média aritmética das unidades vendidas.\n",
    "2. Encontre a mediana das unidades vendidas.\n",
    "3. Identifique o produto mais vendido (moda)."
   ]
  },
  {
   "cell_type": "code",
   "execution_count": 9,
   "metadata": {},
   "outputs": [
    {
     "name": "stdout",
     "output_type": "stream",
     "text": [
      "Tabela de Vendas:\n"
     ]
    },
    {
     "data": {
      "text/html": [
       "<div>\n",
       "<style scoped>\n",
       "    .dataframe tbody tr th:only-of-type {\n",
       "        vertical-align: middle;\n",
       "    }\n",
       "\n",
       "    .dataframe tbody tr th {\n",
       "        vertical-align: top;\n",
       "    }\n",
       "\n",
       "    .dataframe thead th {\n",
       "        text-align: right;\n",
       "    }\n",
       "</style>\n",
       "<table border=\"1\" class=\"dataframe\">\n",
       "  <thead>\n",
       "    <tr style=\"text-align: right;\">\n",
       "      <th></th>\n",
       "      <th>codigo</th>\n",
       "      <th>unidades</th>\n",
       "    </tr>\n",
       "  </thead>\n",
       "  <tbody>\n",
       "    <tr>\n",
       "      <th>0</th>\n",
       "      <td>A001</td>\n",
       "      <td>20</td>\n",
       "    </tr>\n",
       "    <tr>\n",
       "      <th>1</th>\n",
       "      <td>A002</td>\n",
       "      <td>30</td>\n",
       "    </tr>\n",
       "    <tr>\n",
       "      <th>2</th>\n",
       "      <td>A003</td>\n",
       "      <td>25</td>\n",
       "    </tr>\n",
       "    <tr>\n",
       "      <th>3</th>\n",
       "      <td>A004</td>\n",
       "      <td>30</td>\n",
       "    </tr>\n",
       "    <tr>\n",
       "      <th>4</th>\n",
       "      <td>A005</td>\n",
       "      <td>40</td>\n",
       "    </tr>\n",
       "  </tbody>\n",
       "</table>\n",
       "</div>"
      ],
      "text/plain": [
       "  codigo  unidades\n",
       "0   A001        20\n",
       "1   A002        30\n",
       "2   A003        25\n",
       "3   A004        30\n",
       "4   A005        40"
      ]
     },
     "metadata": {},
     "output_type": "display_data"
    },
    {
     "name": "stdout",
     "output_type": "stream",
     "text": [
      "\n",
      "Resultados da Análise:\n"
     ]
    },
    {
     "data": {
      "text/html": [
       "<div>\n",
       "<style scoped>\n",
       "    .dataframe tbody tr th:only-of-type {\n",
       "        vertical-align: middle;\n",
       "    }\n",
       "\n",
       "    .dataframe tbody tr th {\n",
       "        vertical-align: top;\n",
       "    }\n",
       "\n",
       "    .dataframe thead th {\n",
       "        text-align: right;\n",
       "    }\n",
       "</style>\n",
       "<table border=\"1\" class=\"dataframe\">\n",
       "  <thead>\n",
       "    <tr style=\"text-align: right;\">\n",
       "      <th></th>\n",
       "      <th>Média Aritmética</th>\n",
       "      <th>Mediana</th>\n",
       "      <th>Produto(s) mais Vendido(s)</th>\n",
       "      <th>Unidades do Produto mais Vendido</th>\n",
       "    </tr>\n",
       "  </thead>\n",
       "  <tbody>\n",
       "    <tr>\n",
       "      <th>0</th>\n",
       "      <td>29.0</td>\n",
       "      <td>30.0</td>\n",
       "      <td>[A002, A004]</td>\n",
       "      <td>30</td>\n",
       "    </tr>\n",
       "  </tbody>\n",
       "</table>\n",
       "</div>"
      ],
      "text/plain": [
       "   Média Aritmética  Mediana Produto(s) mais Vendido(s)  \\\n",
       "0              29.0     30.0               [A002, A004]   \n",
       "\n",
       "   Unidades do Produto mais Vendido  \n",
       "0                                30  "
      ]
     },
     "metadata": {},
     "output_type": "display_data"
    }
   ],
   "source": [
    "\n",
    "import matplotlib.pyplot as plt\n",
    "import statistics\n",
    "from collections import Counter\n",
    "\n",
    "# Lista de dicionários com os dados de vendas\n",
    "vendas = [\n",
    "    {'codigo': 'A001', 'unidades': 20},\n",
    "    {'codigo': 'A002', 'unidades': 30},\n",
    "    {'codigo': 'A003', 'unidades': 25},\n",
    "    {'codigo': 'A004', 'unidades': 30},\n",
    "    {'codigo': 'A005', 'unidades': 40}\n",
    "]\n",
    "\n",
    "# Criando um DataFrame\n",
    "df_vendas = pd.DataFrame(vendas)\n",
    "\n",
    "# Calculando a média aritmética\n",
    "media = df_vendas['unidades'].mean()\n",
    "\n",
    "# Calculando a mediana\n",
    "mediana = df_vendas['unidades'].median()\n",
    "\n",
    "# Calculando a moda\n",
    "moda = df_vendas['unidades'].mode().iloc[0]\n",
    "\n",
    "# Encontrando o produto mais vendido\n",
    "produto_mais_vendido = df_vendas[df_vendas['unidades'] == moda]['codigo'].tolist()\n",
    "\n",
    "# Resultados\n",
    "resultados = {\n",
    "    'Média Aritmética': [media],\n",
    "    'Mediana': [mediana],\n",
    "    'Produto(s) mais Vendido(s)': [produto_mais_vendido],\n",
    "    'Unidades do Produto mais Vendido': [moda]\n",
    "}\n",
    "\n",
    "# Criando um DataFrame para os resultados\n",
    "df_resultados = pd.DataFrame(resultados)\n",
    "\n",
    "# Usando display para melhor visualização\n",
    "print(\"Tabela de Vendas:\")\n",
    "display(df_vendas)\n",
    "\n",
    "print(\"\\nResultados da Análise:\")\n",
    "display(df_resultados)\n"
   ]
  },
  {
   "cell_type": "markdown",
   "metadata": {},
   "source": [
    " Análise de Temperaturas\n",
    "Você foi contratado para analisar dados meteorológicos.\n",
    "Você tem uma lista com as temperaturas registradas em uma cidade durante\n",
    "um mês. Escreva um programa em Python que:\n",
    "\n",
    "1. Calcule a média aritmética das temperaturas.\n",
    "2. Encontre a mediana das temperaturas.\n",
    "3. Determine a moda das temperaturas (se houver)."
   ]
  },
  {
   "cell_type": "code",
   "execution_count": 14,
   "metadata": {},
   "outputs": [
    {
     "name": "stdout",
     "output_type": "stream",
     "text": [
      "Média Aritmética: 22.57\n",
      "Mediana: 23.0\n",
      "Moda: 22\n"
     ]
    },
    {
     "data": {
      "image/png": "[encoded data removed]",
      "text/plain": [
       "<Figure size 700x700 with 1 Axes>"
      ]
     },
     "metadata": {},
     "output_type": "display_data"
    }
   ],
   "source": [
    "import matplotlib.pyplot as plt\n",
    "import statistics\n",
    "from collections import Counter\n",
    "\n",
    "# Lista com as temperaturas registradas em um mês\n",
    "temperaturas = [22, 21, 23, 22, 25, 26, 27, 28, 26, 24, 25, 24, 22, 23, 24, 26, 27, 28, 25, 24, 23, 22, 21, 20, 19, 18, 17, 16, 15, 14]\n",
    "\n",
    "# Contando a frequência de cada temperatura\n",
    "freq_temperaturas = Counter(temperaturas)\n",
    "labels = list(freq_temperaturas.keys())\n",
    "sizes = list(freq_temperaturas.values())\n",
    "\n",
    "# Definindo cores quentes para temperaturas altas\n",
    "colors = plt.cm.autumn_r([(temp - min(temperaturas)) / (max(temperaturas) - min(temperaturas)) for temp in labels])\n",
    "\n",
    "# Exibindo o resultado da análise\n",
    "print(f\"Média Aritmética: {statistics.mean(temperaturas):.2f}\")\n",
    "print(f\"Mediana: {statistics.median(temperaturas)}\")\n",
    "try:\n",
    "    moda = statistics.mode(temperaturas)\n",
    "    print(f\"Moda: {moda}\")\n",
    "except statistics.StatisticsError:\n",
    "    print(\"Moda: Não há moda\")\n",
    "\n",
    "\n",
    "# Criando o gráfico de pizza\n",
    "plt.figure(figsize=(7,7))  # Dimensões reduzidas para gráfico menor\n",
    "plt.pie(sizes, labels=labels, colors=colors, autopct='%1.1f%%', startangle=140)\n",
    "plt.title('Distribuição das Temperaturas Registradas')\n",
    "plt.axis('equal')  # Equal aspect ratio ensures that pie is drawn as a circle.\n",
    "\n",
    "# Exibindo o gráfico\n",
    "plt.show()\n",
    "\n"
   ]
  },
  {
   "cell_type": "code",
   "execution_count": null,
   "metadata": {},
   "outputs": [],
   "source": []
  },
  {
   "cell_type": "markdown",
   "metadata": {},
   "source": [
    " Você tem a seguinte amostra de dados: ([12, 15, 20, 22, 30])\n",
    "Calcule a variância amostral e o desvio padrão amostral usando Python."
   ]
  },
  {
   "cell_type": "code",
   "execution_count": 2,
   "metadata": {},
   "outputs": [
    {
     "name": "stdout",
     "output_type": "stream",
     "text": [
      "Variância amostral: 48.20\n",
      "Desvio padrão amostral: 6.94\n"
     ]
    }
   ],
   "source": [
    "import statistics\n",
    "\n",
    "# Dados da amostra\n",
    "dados = [12, 15, 20, 22, 30]\n",
    "\n",
    "# Calculando a variância amostral\n",
    "variancia_amostral = statistics.variance(dados)\n",
    "print(f\"Variância amostral: {variancia_amostral:.2f}\")\n",
    "\n",
    "# Calculando o desvio padrão amostral\n",
    "desvio_padrao_amostral = statistics.stdev(dados)\n",
    "print(f\"Desvio padrão amostral: {desvio_padrao_amostral:.2f}\")\n"
   ]
  },
  {
   "cell_type": "markdown",
   "metadata": {},
   "source": [
    "Para a amostra ([3, 6, 8, 10, 12, 14, 16, 18]),\n",
    "calcule a variância amostral e o desvio padrão amostral."
   ]
  },
  {
   "cell_type": "code",
   "execution_count": 3,
   "metadata": {},
   "outputs": [
    {
     "name": "stdout",
     "output_type": "stream",
     "text": [
      "Variância amostral: 26.12\n",
      "Desvio padrão amostral: 5.11\n"
     ]
    }
   ],
   "source": [
    "import statistics\n",
    "\n",
    "# Dados da amostra\n",
    "dados = [3, 6, 8, 10, 12, 14, 16, 18]\n",
    "\n",
    "# Calculando a variância amostral\n",
    "variancia_amostral = statistics.variance(dados)\n",
    "print(f\"Variância amostral: {variancia_amostral:.2f}\")  # Exibindo a variância amostral com duas casas decimais\n",
    "\n",
    "# Calculando o desvio padrão amostral\n",
    "desvio_padrao_amostral = statistics.stdev(dados)\n",
    "print(f\"Desvio padrão amostral: {desvio_padrao_amostral:.2f}\")  # Exibindo o desvio padrão amostral com duas casas decimais\n",
    "\n"
   ]
  },
  {
   "cell_type": "markdown",
   "metadata": {},
   "source": [
    "Dada a amostra ([50, 52, 55, 57, 60, 62, 65, 68, 70, 72]),"
   ]
  },
  {
   "cell_type": "code",
   "execution_count": null,
   "metadata": {},
   "outputs": [],
   "source": [
    "import statistics\n",
    "\n",
    "# Dados da amostra\n",
    "dados = [50,54,55,57,60,62,65,68,70,72]\n",
    "\n",
    "# Calculando a variância amostral\n",
    "variancia_amostral = statistics.variance(dados)\n",
    "print(f\"Variância amostral: {variancia_amostral:.2f}\")  # Exibindo a variância amostral com duas casas deci\n",
    "\n",
    "# Calculando desvio padão\n",
    "desvio_padrao_amostral = statistics.stdev(dados)\n",
    "print(f\"Desvio padrão amostral: {desvio_padrao_amostral:.2f}\")  # Exibindo o desvio padrão amostral com duas casas deci\n"
   ]
  },
  {
   "cell_type": "markdown",
   "metadata": {},
   "source": [
    "Suponha que em uma urna há 3 bolas vermelhas e 2 bolas azuis.\n",
    "Qual é a probabilidade de retirar uma bola vermelha ou uma bola azul? Resolva e escreva o programa em Python."
   ]
  },
  {
   "cell_type": "code",
   "execution_count": 4,
   "metadata": {},
   "outputs": [
    {
     "name": "stdout",
     "output_type": "stream",
     "text": [
      "Probabilidade de retirar uma bola vermelha: 0.60\n",
      "Probabilidade de retirar uma bola azul: 0.40\n",
      "Probabilidade total de retirar uma bola vermelha ou azul: 1.00\n"
     ]
    }
   ],
   "source": [
    "# Número de bolas de cada cor na urna\n",
    "bolas_vermelhas = 3\n",
    "bolas_azuis = 2\n",
    "\n",
    "# Número total de bolas\n",
    "total_bolas = bolas_vermelhas + bolas_azuis\n",
    "\n",
    "# Calculando as probabilidades\n",
    "probabilidade_vermelha = bolas_vermelhas / total_bolas\n",
    "probabilidade_azul = bolas_azuis / total_bolas\n",
    "\n",
    "# Probabilidade total de retirar uma bola vermelha ou azul\n",
    "probabilidade_total = probabilidade_vermelha + probabilidade_azul\n",
    "\n",
    "# Exibindo os resultados\n",
    "print(f\"Probabilidade de retirar uma bola vermelha: {probabilidade_vermelha:.2f}\")\n",
    "print(f\"Probabilidade de retirar uma bola azul: {probabilidade_azul:.2f}\")\n",
    "print(f\"Probabilidade total de retirar uma bola vermelha ou azul: {probabilidade_total:.2f}\")\n"
   ]
  },
  {
   "cell_type": "markdown",
   "metadata": {},
   "source": [
    "Um dado justo de 6 faces é lançado. Qual é a probabilidade de obter um número par ou um número menor que 4?\n",
    "Resolva e escreva o programa em Python."
   ]
  },
  {
   "cell_type": "code",
   "execution_count": null,
   "metadata": {},
   "outputs": [],
   "source": [
    "# Número total de resultados no lançamento de um dado de 6 faces\n",
    "total_resultados = 6\n",
    "\n",
    "# Resultados favoráveis para o evento A (números pares)\n",
    "eventos_A = {2, 4, 6}\n",
    "\n",
    "# Resultados favoráveis para o evento B (números menores que 4)\n",
    "eventos_B = {1, 2, 3}\n",
    "\n",
    "# Interseção de A e B (números que são pares e menores que 4)\n",
    "intersecao_AB = eventos_A & eventos_B\n",
    "\n",
    "# Probabilidade de A (números pares)\n",
    "P_A = len(eventos_A) / total_resultados\n",
    "\n",
    "# Probabilidade de B (números menores que 4)\n",
    "P_B = len(eventos_B) / total_resultados\n",
    "\n",
    "# Probabilidade da interseção de A e B (números que são pares e menores que 4)\n",
    "P_AB = len(intersecao_AB) / total_resultados\n",
    "\n",
    "# Probabilidade de A ou B\n",
    "P_A_or_B = P_A + P_B - P_AB\n",
    "\n",
    "# Exibindo os resultados arredondados para 2 casas decimais\n",
    "print(\"Probabilidade de obter um número par (P(A)):\", round(P_A, 2))\n",
    "print(\"Probabilidade de obter um número menor que 4 (P(B)):\", round(P_B, 2))\n",
    "print(\"Probabilidade de obter um número que seja par e menor que 4 (P(A ∩ B)):\", round(P_AB, 2))\n",
    "print(\"Probabilidade de obter um número par ou um número menor que 4 (P(A ∪ B)):\", round(P_A_or_B, 2))\n"
   ]
  },
  {
   "cell_type": "markdown",
   "metadata": {},
   "source": [
    "Uma caixa contém 10 bilhetes numerados de 1 a 10.Qual é a probabilidade de retirar um bilhete que tenha um número menor que 4 ou um número maior que 7?"
   ]
  },
  {
   "cell_type": "code",
   "execution_count": null,
   "metadata": {},
   "outputs": [],
   "source": [
    "# Número total de bilhetes\n",
    "total_bilhetes = 10\n",
    "\n",
    "# Resultados favoráveis para o evento A (números menores que 4)\n",
    "eventos_A = {1, 2, 3}\n",
    "\n",
    "# Resultados favoráveis para o evento B (números maiores que 7)\n",
    "eventos_B = {8, 9, 10}\n",
    "\n",
    "# Interseção de A e B (números que são menores que 4 e maiores que 7, que é um conjunto vazio)\n",
    "intersecao_AB = eventos_A & eventos_B\n",
    "\n",
    "# Probabilidade de A (números menores que 4)\n",
    "P_A = len(eventos_A) / total_bilhetes\n",
    "\n",
    "# Probabilidade de B (números maiores que 7)\n",
    "P_B = len(eventos_B) / total_bilhetes\n",
    "\n",
    "# Probabilidade da interseção de A e B (números que são menores que 4 e maiores que 7)\n",
    "P_AB = len(intersecao_AB) / total_bilhetes\n",
    "\n",
    "# Probabilidade de A ou B\n",
    "P_A_or_B = P_A + P_B - P_AB\n",
    "\n",
    "# Exibindo os resultados arredondados para 2 casas decimais\n",
    "print(\"Probabilidade de retirar um bilhete com um número menor que 4 (P(A)):\", round(P_A, 2))\n",
    "print(\"Probabilidade de retirar um bilhete com um número maior que 7 (P(B)):\", round(P_B, 2))\n",
    "print(\"Probabilidade de retirar um bilhete que tenha um número menor que 4 ou um número maior que 7 (P(A ∪ B)):\", round(P_A_or_B, 2))\n"
   ]
  },
  {
   "cell_type": "markdown",
   "metadata": {},
   "source": [
    "Você lança uma moeda justa e, em seguida, lança um dado justo.Qual é a probabilidade de obter cara na moeda e um número maior que 4 no dado?"
   ]
  },
  {
   "cell_type": "code",
   "execution_count": null,
   "metadata": {},
   "outputs": [],
   "source": [
    "# Probabilidade de obter cara na moeda\n",
    "P_A = 1 / 2\n",
    "\n",
    "# Probabilidade de obter um número maior que 4 no dado\n",
    "P_B = 1 / 3\n",
    "\n",
    "# Probabilidade de obter cara na moeda e um número maior que 4 no dado\n",
    "P_A_and_B = P_A * P_B\n",
    "\n",
    "# Exibindo o resultado arredondado para 2 casas decimais\n",
    "print(\"Probabilidade de obter cara na moeda (P(A)):\", round(P_A, 2))\n",
    "print(\"Probabilidade de obter um número maior que 4 no dado (P(B)):\", round(P_B, 2))\n",
    "print(\"Probabilidade de obter cara na moeda e um número maior que 4 no dado (P(A ∩ B)):\", round(P_A_and_B, 2))\n"
   ]
  },
  {
   "cell_type": "markdown",
   "metadata": {},
   "source": [
    "Você escolhe uma peça de roupa aleatoriamente de um armário e, em seguida,escolhe uma peça de calçado aleatoriamente se um sapateiro.se o armario tem 10 camisetas e o sapateriro tem 8 paresde sapato,qual é a probalidadade de escolher uma camiseta azule um par de sapatos pretos?"
   ]
  },
  {
   "cell_type": "code",
   "execution_count": null,
   "metadata": {},
   "outputs": [],
   "source": [
    "# Número total de camisetas\n",
    "total_camisetas = 10\n",
    "\n",
    "# Número total de pares de sapatos\n",
    "total_sapatos = 8\n",
    "\n",
    "# Número de camisetas azuis\n",
    "camisetas_azuis = 3\n",
    "\n",
    "# Número de pares de sapatos pretos\n",
    "sapatos_pretos = 2\n",
    "\n",
    "# Probabilidade de escolher uma camiseta de cor azul\n",
    "P_A = camisetas_azuis / total_camisetas\n",
    "\n",
    "# Probabilidade de escolher um par de sapatos pretos\n",
    "P_B = sapatos_pretos / total_sapatos\n",
    "\n",
    "# Probabilidade de escolher uma camiseta de cor azul e um par de sapatos pretos\n",
    "P_A_and_B = P_A * P_B\n",
    "\n",
    "# Exibindo o resultado arredondado para 2 casas decimais\n",
    "print(\"Probabilidade de escolher uma camiseta de cor azul (P(A)):\", round(P_A, 2))\n",
    "print(\"Probabilidade de escolher um par de sapatos pretos (P(B)):\", round(P_B, 2))\n",
    "print(\"Probabilidade de escolher uma camiseta de cor azul e um par de sapatos pretos (P(A ∩ B)):\", round(P_A_and_B, 2))\n"
   ]
  },
  {
   "cell_type": "markdown",
   "metadata": {},
   "source": [
    "Você tem uma lista de 1000 números inteiros aleatórios entre 1 e 1000.Pegue uma amostra de 50 números dessa lista.Calcule a meidia e o desvio padrão da amostra"
   ]
  },
  {
   "cell_type": "code",
   "execution_count": null,
   "metadata": {},
   "outputs": [],
   "source": [
    "import random\n",
    "import statistics\n",
    "\n",
    "# Gerar a lista de 1000 números inteiros aleatórios entre 1 e 1000\n",
    "lista_numeros = [random.randint(1, 1000) for _ in range(1000)]\n",
    "\n",
    "# Selecionar uma amostra aleatória de 50 números\n",
    "amostra = random.sample(lista_numeros, 50)\n",
    "\n",
    "# Calcular a média da amostra\n",
    "media_amostra = statistics.mean(amostra)\n",
    "\n",
    "# Calcular o desvio padrão da amostra\n",
    "desvio_padrao_amostra = statistics.stdev(amostra)\n",
    "\n",
    "# Exibir os resultados\n",
    "print(\"Média da amostra:\", round(media_amostra, 2))\n",
    "print(\"Desvio padrão da amostra:\", round(desvio_padrao_amostra, 2))\n"
   ]
  },
  {
   "cell_type": "markdown",
   "metadata": {},
   "source": [
    "Considere uma população com 3 grupos (A, B, C) com tamanhos diferentes: A (100), B (200), C (300). Faça uma amostra estratificada onde você tira 10% de cada grupo"
   ]
  },
  {
   "cell_type": "code",
   "execution_count": null,
   "metadata": {},
   "outputs": [],
   "source": [
    "import random\n",
    "\n",
    "# Definir os grupos\n",
    "grupo_A = list(range(1, 101))  # Grupo A com 100 elementos (1 a 100)\n",
    "grupo_B = list(range(101, 301))  # Grupo B com 200 elementos (101 a 300)\n",
    "grupo_C = list(range(301, 601))  # Grupo C com 300 elementos (301 a 600)\n",
    "\n",
    "# Tamanho da amostra (10% de cada grupo)\n",
    "amostra_A = random.sample(grupo_A, int(0.1 * len(grupo_A)))  # 10 elementos\n",
    "amostra_B = random.sample(grupo_B, int(0.1 * len(grupo_B)))  # 20 elementos\n",
    "amostra_C = random.sample(grupo_C, int(0.1 * len(grupo_C)))  # 30 elementos\n",
    "\n",
    "# Combinar as amostras para formar a amostra estratificada\n",
    "amostra_estratificada = amostra_A + amostra_B + amostra_C\n",
    "\n",
    "# Exibir os resultados\n",
    "print(\"Amostra do grupo A:\", amostra_A)\n",
    "print(\"Amostra do grupo B:\", amostra_B)\n",
    "print(\"Amostra do grupo C:\", amostra_C)\n",
    "print(\"Amostra estratificada:\", amostra_estratificada)\n"
   ]
  }
 ],
 "metadata": {
  "kernelspec": {
   "display_name": "Python 3",
   "language": "python",
   "name": "python3"
  },
  "language_info": {
   "codemirror_mode": {
    "name": "ipython",
    "version": 3
   },
   "file_extension": ".py",
   "mimetype": "text/x-python",
   "name": "python",
   "nbconvert_exporter": "python",
   "pygments_lexer": "ipython3",
   "version": "3.12.4"
  }
 },
 "nbformat": 4,
 "nbformat_minor": 2
}
